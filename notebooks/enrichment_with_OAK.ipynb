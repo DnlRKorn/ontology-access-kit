{
 "cells": [
  {
   "cell_type": "code",
   "execution_count": 14,
   "id": "5f6b6b9a",
   "metadata": {},
   "outputs": [],
   "source": [
    "from oaklib.implementations.pronto.pronto_implementation import ProntoImplementation\n",
    "from oaklib.resource import OntologyResource"
   ]
  },
  {
   "cell_type": "code",
   "execution_count": 15,
   "id": "dbe9e522",
   "metadata": {},
   "outputs": [],
   "source": [
    "gene_ids = ['NCBIGene:6295',\n",
    " 'NCBIGene:1258',\n",
    " 'NCBIGene:3614',\n",
    " 'NCBIGene:26121',\n",
    " 'NCBIGene:7275',\n",
    " 'NCBIGene:55857',\n",
    " 'NCBIGene:79797',\n",
    " 'NCBIGene:10594',\n",
    " 'NCBIGene:64218',\n",
    " 'NCBIGene:7401']"
   ]
  },
  {
   "cell_type": "code",
   "execution_count": 20,
   "id": "0d07d788",
   "metadata": {},
   "outputs": [],
   "source": [
    "oi = ProntoImplementation(OntologyResource(local=False, slug='go.obo'))"
   ]
  },
  {
   "cell_type": "code",
   "execution_count": 21,
   "id": "d6eacf80",
   "metadata": {},
   "outputs": [
    {
     "name": "stdout",
     "output_type": "stream",
     "text": [
      "  rdfs:subClassOf ! subClassOf\n",
      "    GO:0043231 ! intracellular membrane-bounded organelle\n",
      "  BFO:0000050 ! part of\n",
      "    GO:0005737 ! cytoplasm\n"
     ]
    }
   ],
   "source": [
    "rels = oi.get_outgoing_relationships_by_curie('GO:0005773')\n",
    "for rel, parents in rels.items():\n",
    "    print(f'  {rel} ! {oi.get_label_by_curie(rel)}')\n",
    "    for parent in parents:\n",
    "        print(f'    {parent} ! {oi.get_label_by_curie(parent)}')"
   ]
  },
  {
   "cell_type": "code",
   "execution_count": null,
   "id": "27c908fb",
   "metadata": {},
   "outputs": [],
   "source": [
    "labels = "
   ]
  },
  {
   "cell_type": "code",
   "execution_count": 17,
   "id": "d8ee5144",
   "metadata": {},
   "outputs": [],
   "source": [
    "def enrichment_test(subjects=None, background=None, hypotheses=None, inferred_types=None, ontology_labels=None, threshold=0.05, labels=False, direction='greater'):\n",
    "        \"\"\"\n",
    "        Performs term enrichment analysis.\n",
    "\n",
    "        Arguments\n",
    "        ---------\n",
    "\n",
    "        subjects: string list\n",
    "\n",
    "            Sample set. Typically a gene ID list. These are assumed to have associations\n",
    "\n",
    "        background: string list\n",
    "\n",
    "            Background set. If not set, uses full set of known subject IDs in the association set\n",
    "\n",
    "        threshold: float\n",
    "\n",
    "            p values above this are filtered out\n",
    "\n",
    "        labels: boolean\n",
    "\n",
    "            if true, labels for enriched classes are included in result objects\n",
    "\n",
    "        direction: 'greater', 'less' or 'two-sided'\n",
    "\n",
    "            default is greater - i.e. enrichment test. Use 'less' for depletion test.\n",
    "\n",
    "        \"\"\"\n",
    "        if subjects is None:\n",
    "            subjects = []\n",
    "\n",
    "        subjects=set(subjects)\n",
    "        bg_count = {}\n",
    "        sample_count = {}\n",
    "        potential_hypotheses = set()\n",
    "        sample_size = len(subjects)\n",
    "        for s in subjects:\n",
    "            potential_hypotheses.update(inferred_types(s))\n",
    "        if hypotheses is None:\n",
    "            hypotheses = potential_hypotheses\n",
    "        else:\n",
    "            hypotheses = potential_hypotheses.intersection(hypotheses)\n",
    "        logger.info(\"Hypotheses: {}\".format(hypotheses))\n",
    "\n",
    "        # get background counts\n",
    "        # TODO: consider doing this ahead of time\n",
    "        if background is None:\n",
    "            background = set(subjects)\n",
    "        else:\n",
    "            background = set(background)\n",
    "\n",
    "        # ensure background includes all subjects\n",
    "        background.update(subjects)\n",
    "\n",
    "        bg_size = len(background)\n",
    "\n",
    "        for c in hypotheses:\n",
    "            bg_count[c] = 0\n",
    "            sample_count[c] = 0\n",
    "        for s in background:\n",
    "            ancs = inferred_types(s)\n",
    "            for a in ancs.intersection(hypotheses):\n",
    "                bg_count[a] = bg_count[a]+1\n",
    "        for s in subjects:\n",
    "            for a in inferred_types(s):\n",
    "                if a in hypotheses:\n",
    "                    sample_count[a] = sample_count[a]+1\n",
    "\n",
    "        hypotheses = [x for x in hypotheses if bg_count[x] > 1]\n",
    "        logger.info(\"Filtered hypotheses: {}\".format(hypotheses))\n",
    "        num_hypotheses = len(hypotheses)\n",
    "        results = []\n",
    "        for cls in hypotheses:\n",
    "\n",
    "            # https://en.wikipedia.org/wiki/Fisher's_exact_test\n",
    "            #\n",
    "            #              Cls  NotCls    RowTotal\n",
    "            #              ---  ------    ---\n",
    "            # study/sample [a,      b]    sample_size\n",
    "            # rest of ref  [c,      d]    bg_size - sample_size\n",
    "            #              ---     ---\n",
    "            #              nCls  nNotCls\n",
    "\n",
    "            a = sample_count[cls]\n",
    "            b = sample_size - a\n",
    "            c = bg_count[cls] - a\n",
    "            d = (bg_size - bg_count[cls]) - b\n",
    "            #logger.debug(\"ABCD=\"+str((cls,a,b,c,d,sample_size)))\n",
    "            _, p_uncorrected = sp.stats.fisher_exact( [[a, b], [c, d]], direction)\n",
    "            p = p_uncorrected * num_hypotheses\n",
    "            if p>1.0:\n",
    "                p=1.0\n",
    "            #logger.debug(\"P={} uncorrected={}\".format(p,p_uncorrected))\n",
    "            if p<threshold:\n",
    "                res = {'c':cls,'p':p,'p_uncorrected':p_uncorrected}\n",
    "                if labels:\n",
    "                    res['n'] = ontology.label(cls)\n",
    "                results.append(res)\n",
    "\n",
    "        results = sorted(results, key=lambda x:x['p'])\n",
    "        return results"
   ]
  },
  {
   "cell_type": "code",
   "execution_count": 19,
   "id": "5dd830c9",
   "metadata": {},
   "outputs": [
    {
     "ename": "TypeError",
     "evalue": "'NoneType' object is not callable",
     "output_type": "error",
     "traceback": [
      "\u001b[0;31m---------------------------------------------------------------------------\u001b[0m",
      "\u001b[0;31mTypeError\u001b[0m                                 Traceback (most recent call last)",
      "Input \u001b[0;32mIn [19]\u001b[0m, in \u001b[0;36m<cell line: 2>\u001b[0;34m()\u001b[0m\n\u001b[1;32m      1\u001b[0m \u001b[38;5;66;03m## Run enrichment tests using all classes in ontology\u001b[39;00m\n\u001b[0;32m----> 2\u001b[0m enr \u001b[38;5;241m=\u001b[39m \u001b[43menrichment_test\u001b[49m\u001b[43m(\u001b[49m\u001b[43msubjects\u001b[49m\u001b[38;5;241;43m=\u001b[39;49m\u001b[43mgene_ids\u001b[49m\u001b[43m,\u001b[49m\u001b[43m \u001b[49m\u001b[43mthreshold\u001b[49m\u001b[38;5;241;43m=\u001b[39;49m\u001b[38;5;241;43m0.00005\u001b[39;49m\u001b[43m,\u001b[49m\u001b[43m \u001b[49m\u001b[43mlabels\u001b[49m\u001b[38;5;241;43m=\u001b[39;49m\u001b[38;5;28;43;01mTrue\u001b[39;49;00m\u001b[43m)\u001b[49m\n",
      "Input \u001b[0;32mIn [17]\u001b[0m, in \u001b[0;36menrichment_test\u001b[0;34m(subjects, background, hypotheses, inferred_types, ontology_labels, threshold, labels, direction)\u001b[0m\n\u001b[1;32m     36\u001b[0m sample_size \u001b[38;5;241m=\u001b[39m \u001b[38;5;28mlen\u001b[39m(subjects)\n\u001b[1;32m     37\u001b[0m \u001b[38;5;28;01mfor\u001b[39;00m s \u001b[38;5;129;01min\u001b[39;00m subjects:\n\u001b[0;32m---> 38\u001b[0m     potential_hypotheses\u001b[38;5;241m.\u001b[39mupdate(\u001b[43minferred_types\u001b[49m\u001b[43m(\u001b[49m\u001b[43ms\u001b[49m\u001b[43m)\u001b[49m)\n\u001b[1;32m     39\u001b[0m \u001b[38;5;28;01mif\u001b[39;00m hypotheses \u001b[38;5;129;01mis\u001b[39;00m \u001b[38;5;28;01mNone\u001b[39;00m:\n\u001b[1;32m     40\u001b[0m     hypotheses \u001b[38;5;241m=\u001b[39m potential_hypotheses\n",
      "\u001b[0;31mTypeError\u001b[0m: 'NoneType' object is not callable"
     ]
    }
   ],
   "source": [
    "## Run enrichment tests using all classes in ontology\n",
    "enr = enrichment_test(subjects=gene_ids, threshold=0.00005, labels=True)"
   ]
  },
  {
   "cell_type": "code",
   "execution_count": null,
   "id": "00b3ee47",
   "metadata": {},
   "outputs": [],
   "source": [
    "## Show first 20 results\n",
    "for r in enr[:20]:\n",
    "        print(\"{:8.3g} {} {:40s}\".format(r['p'],r['c'],str(r['n'])))"
   ]
  }
 ],
 "metadata": {
  "kernelspec": {
   "display_name": "Python 3 (ipykernel)",
   "language": "python",
   "name": "python3"
  },
  "language_info": {
   "codemirror_mode": {
    "name": "ipython",
    "version": 3
   },
   "file_extension": ".py",
   "mimetype": "text/x-python",
   "name": "python",
   "nbconvert_exporter": "python",
   "pygments_lexer": "ipython3",
   "version": "3.9.6"
  }
 },
 "nbformat": 4,
 "nbformat_minor": 5
}
