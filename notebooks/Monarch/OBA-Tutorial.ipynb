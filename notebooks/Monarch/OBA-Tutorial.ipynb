{
 "cells": [
  {
   "cell_type": "markdown",
   "id": "5d29cf80",
   "metadata": {},
   "source": [
    "# OBA tutorial\n",
    "\n",
    "* author: Harshad Hegde\n",
    "* created: 2023-01-25\n",
    "\n",
    "This tutorial walks through OBA."
   ]
  },
  {
   "cell_type": "markdown",
   "id": "6c4bf957",
   "metadata": {},
   "source": [
    "## Create an alias\n",
    "\n",
    "For convenience we will set a bash alias.\n",
    "\n",
    "This assumes you have built the sqlite version of oba in the `../../db` folder\n",
    "\n",
    "__NOTE__ an alternative is:\n",
    "\n",
    "`%alias oba runoak -i sqlite:obo:oba`"
   ]
  },
  {
   "cell_type": "code",
   "execution_count": 2,
   "id": "fbadff42",
   "metadata": {},
   "outputs": [],
   "source": [
    "%alias oba runoak -i ../../db/oba.db"
   ]
  },
  {
   "cell_type": "markdown",
   "id": "c3e0442d",
   "metadata": {},
   "source": [
    "### Basic lookup queries\n",
    "\n",
    "Let's check it's working:"
   ]
  },
  {
   "cell_type": "code",
   "execution_count": 4,
   "id": "6b2d6af4",
   "metadata": {},
   "outputs": [
    {
     "name": "stdout",
     "output_type": "stream",
     "text": [
      "OBA:1000076 ! attribute of cell\r\n"
     ]
    }
   ],
   "source": [
    "oba info OBA:1000076"
   ]
  },
  {
   "cell_type": "code",
   "execution_count": null,
   "id": "e7815a07",
   "metadata": {},
   "outputs": [],
   "source": []
  }
 ],
 "metadata": {
  "kernelspec": {
   "display_name": "Python 3 (ipykernel)",
   "language": "python",
   "name": "python3"
  },
  "language_info": {
   "codemirror_mode": {
    "name": "ipython",
    "version": 3
   },
   "file_extension": ".py",
   "mimetype": "text/x-python",
   "name": "python",
   "nbconvert_exporter": "python",
   "pygments_lexer": "ipython3",
   "version": "3.9.12"
  }
 },
 "nbformat": 4,
 "nbformat_minor": 5
}
