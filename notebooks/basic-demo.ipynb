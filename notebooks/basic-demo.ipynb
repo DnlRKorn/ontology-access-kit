{
 "cells": [
  {
   "cell_type": "markdown",
   "id": "6c9a188d",
   "metadata": {},
   "source": [
    "# Basic Ontology Interface Demo\n",
    "\n",
    "this demonstrates the use of the BasicOntologyInterface which provides simplified access to local or remote\n",
    "ontologies.\n",
    "\n",
    "We demonstrate the use of different backends, but in practice you will likely only use one depending on your use case.\n",
    "\n",
    "- pronto or sqlite for working with ontologies which you have a local copy of, and can trade startup time for generally faster operations\n",
    "- ubergraph or ontobee or ols or bioportal for an ontology that has been loaded into a remote server"
   ]
  },
  {
   "cell_type": "markdown",
   "id": "667f0480",
   "metadata": {},
   "source": [
    "## Loading from obo files using Pronto"
   ]
  },
  {
   "cell_type": "code",
   "execution_count": 1,
   "id": "d0255749",
   "metadata": {},
   "outputs": [],
   "source": [
    "from obolib.implementations.pronto.pronto_basic_impl import ProntoImplementation\n",
    "from obolib.resource import OntologyResource"
   ]
  },
  {
   "cell_type": "markdown",
   "id": "6ef2643a",
   "metadata": {},
   "source": [
    "### Local files\n",
    "\n",
    "First we demonstrate loading from a file on the filesystem"
   ]
  },
  {
   "cell_type": "code",
   "execution_count": 2,
   "id": "3b911252",
   "metadata": {},
   "outputs": [],
   "source": [
    "resource = OntologyResource(slug='go-nucleus.obo', directory='input', local=True)\n",
    "oi = ProntoImplementation.create(resource)"
   ]
  },
  {
   "cell_type": "code",
   "execution_count": 3,
   "id": "af7bc82b",
   "metadata": {},
   "outputs": [
    {
     "name": "stdout",
     "output_type": "stream",
     "text": [
      "  rdfs:subClassOf ! subClassOf\n",
      "    GO:0005773 ! vacuole\n",
      "    GO:0043231 ! intracellular membrane-bounded organelle\n",
      "  part_of ! part_of\n",
      "    GO:0005737 ! cytoplasm\n"
     ]
    }
   ],
   "source": [
    "rels = oi.get_outgoing_relationships_by_curie('GO:0005773')\n",
    "for rel, parents in rels.items():\n",
    "    print(f'  {rel} ! {oi.get_label_by_curie(rel)}')\n",
    "    for parent in parents:\n",
    "        print(f'    {parent} ! {oi.get_label_by_curie(parent)}')"
   ]
  },
  {
   "cell_type": "markdown",
   "id": "74879ed0",
   "metadata": {},
   "source": [
    "### Remote (downloading from OBO)\n",
    "\n",
    "Next we use pronto's load from obo library feature"
   ]
  },
  {
   "cell_type": "code",
   "execution_count": 4,
   "id": "33fd0318",
   "metadata": {},
   "outputs": [],
   "source": [
    "oi = ProntoImplementation.create(OntologyResource(local=False, slug='go.obo'))"
   ]
  },
  {
   "cell_type": "code",
   "execution_count": 7,
   "id": "6bb78662",
   "metadata": {},
   "outputs": [
    {
     "name": "stdout",
     "output_type": "stream",
     "text": [
      "  rdfs:subClassOf ! subClassOf\n",
      "    GO:0005773 ! vacuole\n",
      "    GO:0043231 ! intracellular membrane-bounded organelle\n",
      "  part_of ! part of\n",
      "    GO:0005737 ! cytoplasm\n"
     ]
    }
   ],
   "source": [
    "rels = oi.get_outgoing_relationships_by_curie('GO:0005773')\n",
    "for rel, parents in rels.items():\n",
    "    print(f'  {rel} ! {oi.get_label_by_curie(rel)}')\n",
    "    for parent in parents:\n",
    "        print(f'    {parent} ! {oi.get_label_by_curie(parent)}')"
   ]
  },
  {
   "cell_type": "markdown",
   "id": "77e03f3f",
   "metadata": {},
   "source": [
    "## SQL Database access\n",
    "\n",
    "We can load from a SQL Database following Semantic SQL patterns"
   ]
  },
  {
   "cell_type": "code",
   "execution_count": 6,
   "id": "fcb703b1",
   "metadata": {},
   "outputs": [],
   "source": [
    "from obolib.implementations.sqldb.sqldb_basic_impl import SqlDatabaseBasicImpl\n"
   ]
  },
  {
   "cell_type": "code",
   "execution_count": 16,
   "id": "90615183",
   "metadata": {},
   "outputs": [
    {
     "name": "stdout",
     "output_type": "stream",
     "text": [
      "CREATING: sqlite:///input/go-nucleus.db\n"
     ]
    }
   ],
   "source": [
    "oi = SqlDatabaseBasicImpl.create(OntologyResource(slug=f'sqlite:///input/go-nucleus.db'))"
   ]
  },
  {
   "cell_type": "code",
   "execution_count": 20,
   "id": "b21e10d2",
   "metadata": {},
   "outputs": [
    {
     "ename": "NotImplementedError",
     "evalue": "",
     "output_type": "error",
     "traceback": [
      "\u001b[0;31m---------------------------------------------------------------------------\u001b[0m",
      "\u001b[0;31mNotImplementedError\u001b[0m                       Traceback (most recent call last)",
      "Input \u001b[0;32mIn [20]\u001b[0m, in \u001b[0;36m<cell line: 2>\u001b[0;34m()\u001b[0m\n\u001b[1;32m      1\u001b[0m \u001b[38;5;66;03m## TODO\u001b[39;00m\n\u001b[0;32m----> 2\u001b[0m rels \u001b[38;5;241m=\u001b[39m \u001b[43moi\u001b[49m\u001b[38;5;241;43m.\u001b[39;49m\u001b[43mget_outgoing_relationships_by_curie\u001b[49m\u001b[43m(\u001b[49m\u001b[38;5;124;43m'\u001b[39;49m\u001b[38;5;124;43mGO:0005773\u001b[39;49m\u001b[38;5;124;43m'\u001b[39;49m\u001b[43m)\u001b[49m\n\u001b[1;32m      3\u001b[0m \u001b[38;5;28;01mfor\u001b[39;00m k, v \u001b[38;5;129;01min\u001b[39;00m rels\u001b[38;5;241m.\u001b[39mitems():\n\u001b[1;32m      4\u001b[0m     \u001b[38;5;28mprint\u001b[39m(\u001b[38;5;124mf\u001b[39m\u001b[38;5;124m'\u001b[39m\u001b[38;5;132;01m{\u001b[39;00mk\u001b[38;5;132;01m}\u001b[39;00m\u001b[38;5;124m = \u001b[39m\u001b[38;5;132;01m{\u001b[39;00mv\u001b[38;5;132;01m}\u001b[39;00m\u001b[38;5;124m'\u001b[39m)\n",
      "File \u001b[0;32m~/repos/obolib/src/obolib/interfaces/basic_ontology_interface.py:190\u001b[0m, in \u001b[0;36mBasicOntologyInterface.get_outgoing_relationships_by_curie\u001b[0;34m(self, curie)\u001b[0m\n\u001b[1;32m    177\u001b[0m \u001b[38;5;28;01mdef\u001b[39;00m \u001b[38;5;21mget_outgoing_relationships_by_curie\u001b[39m(\u001b[38;5;28mself\u001b[39m, curie: CURIE) \u001b[38;5;241m-\u001b[39m\u001b[38;5;241m>\u001b[39m RELATIONSHIP_MAP:\n\u001b[1;32m    178\u001b[0m     \u001b[38;5;124;03m\"\"\"\u001b[39;00m\n\u001b[1;32m    179\u001b[0m \u001b[38;5;124;03m    The return relationship map is keyed by relationship type, where the values\u001b[39;00m\n\u001b[1;32m    180\u001b[0m \u001b[38;5;124;03m    are the 'parents' or fillers\u001b[39;00m\n\u001b[0;32m   (...)\u001b[0m\n\u001b[1;32m    188\u001b[0m \u001b[38;5;124;03m    :return:\u001b[39;00m\n\u001b[1;32m    189\u001b[0m \u001b[38;5;124;03m    \"\"\"\u001b[39;00m\n\u001b[0;32m--> 190\u001b[0m     \u001b[38;5;28;01mraise\u001b[39;00m \u001b[38;5;167;01mNotImplementedError\u001b[39;00m()\n",
      "\u001b[0;31mNotImplementedError\u001b[0m: "
     ]
    }
   ],
   "source": [
    "## TODO\n",
    "rels = oi.get_outgoing_relationships_by_curie('GO:0005773')\n",
    "for k, v in rels.items():\n",
    "    print(f'{k} = {v}')"
   ]
  },
  {
   "cell_type": "code",
   "execution_count": 21,
   "id": "38eeb8bb",
   "metadata": {},
   "outputs": [
    {
     "name": "stdout",
     "output_type": "stream",
     "text": [
      "%intracellular%\n",
      "PREDS = ['rdfs:label', 'oio:hasRelatedSynonym', 'oio:hasNarrowSynonym', 'oio:hasExactSynonym', 'oio:hasBroadSynonym']\n",
      " MATCH: GO:0005622 ! intracellular anatomical structure \n",
      " MATCH: GO:0043231 ! intracellular membrane-bounded organelle \n",
      " MATCH: GO:0031090 ! organelle membrane \n",
      " MATCH: GO:0043229 ! intracellular organelle \n"
     ]
    }
   ],
   "source": [
    "for curie in oi.basic_search('intracellular'):\n",
    "    print(f' MATCH: {curie} ! {oi.get_label_by_curie(curie)} ')"
   ]
  },
  {
   "cell_type": "code",
   "execution_count": 22,
   "id": "7db300b9",
   "metadata": {},
   "outputs": [
    {
     "data": {
      "text/plain": [
       "SqlDatabaseBasicImpl(engine=Engine(sqlite:///input/go-nucleus.db), strict=False, _session=<sqlalchemy.orm.session.Session object at 0x7f9123019f70>, _connection=None)"
      ]
     },
     "execution_count": 22,
     "metadata": {},
     "output_type": "execute_result"
    }
   ],
   "source": [
    "oi"
   ]
  },
  {
   "cell_type": "code",
   "execution_count": 30,
   "id": "3098a07a",
   "metadata": {},
   "outputs": [],
   "source": [
    "# TODO: interfaces_implemented\n",
    "oic = type(oi)"
   ]
  },
  {
   "cell_type": "code",
   "execution_count": 31,
   "id": "9d381a25",
   "metadata": {},
   "outputs": [
    {
     "data": {
      "text/plain": [
       "(obolib.interfaces.basic_ontology_interface.BasicOntologyInterface,)"
      ]
     },
     "execution_count": 31,
     "metadata": {},
     "output_type": "execute_result"
    }
   ],
   "source": [
    "oic.__bases__\n"
   ]
  },
  {
   "cell_type": "markdown",
   "id": "a43eab8d",
   "metadata": {},
   "source": [
    "## Loading from OWL ontologies using owlfun\n",
    "\n",
    "TODO"
   ]
  },
  {
   "cell_type": "markdown",
   "id": "b8fa28d5",
   "metadata": {},
   "source": [
    "## Wrapping remote ontology portals\n",
    "\n",
    "### OLS\n",
    "\n",
    "TODO\n",
    "\n",
    "### BioPortal\n",
    "\n",
    "TODO"
   ]
  },
  {
   "cell_type": "markdown",
   "id": "b1925ff5",
   "metadata": {},
   "source": [
    "## Wrapping SPARQL Endpoints\n",
    "\n",
    "### Ubergraph\n",
    "\n",
    "TODO\n",
    "\n",
    "### Ontobee\n",
    "\n",
    "TODO"
   ]
  },
  {
   "cell_type": "code",
   "execution_count": null,
   "id": "2d793147",
   "metadata": {},
   "outputs": [],
   "source": []
  }
 ],
 "metadata": {
  "kernelspec": {
   "display_name": "Python 3 (ipykernel)",
   "language": "python",
   "name": "python3"
  },
  "language_info": {
   "codemirror_mode": {
    "name": "ipython",
    "version": 3
   },
   "file_extension": ".py",
   "mimetype": "text/x-python",
   "name": "python",
   "nbconvert_exporter": "python",
   "pygments_lexer": "ipython3",
   "version": "3.9.5"
  }
 },
 "nbformat": 4,
 "nbformat_minor": 5
}
