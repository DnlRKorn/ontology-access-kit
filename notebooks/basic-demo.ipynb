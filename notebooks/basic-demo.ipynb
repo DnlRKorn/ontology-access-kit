{
 "cells": [
  {
   "cell_type": "markdown",
   "id": "6c9a188d",
   "metadata": {},
   "source": [
    "# Basic Ontology Interface Demo\n",
    "\n",
    "this demonstrates the use of the BasicOntologyInterface which provides simplified access to local or remote\n",
    "ontologies.\n",
    "\n",
    "We demonstrate the use of different backends, but in practice you will likely only use one depending on your use case.\n",
    "\n",
    "- pronto or sqlite for working with ontologies which you have a local copy of, and can trade startup time for generally faster operations\n",
    "- ubergraph or ontobee or ols or bioportal for an ontology that has been loaded into a remote server"
   ]
  },
  {
   "cell_type": "markdown",
   "id": "667f0480",
   "metadata": {},
   "source": [
    "## Loading from obo files using Pronto"
   ]
  },
  {
   "cell_type": "code",
   "execution_count": 1,
   "id": "d0255749",
   "metadata": {},
   "outputs": [],
   "source": [
    "from obolib.implementations.pronto.pronto_implementation import ProntoImplementation\n",
    "from obolib.resource import OntologyResource"
   ]
  },
  {
   "cell_type": "markdown",
   "id": "6ef2643a",
   "metadata": {},
   "source": [
    "### Local files\n",
    "\n",
    "First we demonstrate loading from a file on the filesystem"
   ]
  },
  {
   "cell_type": "code",
   "execution_count": 2,
   "id": "3b911252",
   "metadata": {},
   "outputs": [],
   "source": [
    "resource = OntologyResource(slug='go-nucleus.obo', directory='input', local=True)\n",
    "oi = ProntoImplementation.create(resource)"
   ]
  },
  {
   "cell_type": "code",
   "execution_count": 3,
   "id": "af7bc82b",
   "metadata": {},
   "outputs": [
    {
     "name": "stdout",
     "output_type": "stream",
     "text": [
      "  rdfs:subClassOf ! subClassOf\n",
      "    GO:0005773 ! vacuole\n",
      "    GO:0043231 ! intracellular membrane-bounded organelle\n",
      "  part_of ! part_of\n",
      "    GO:0005737 ! cytoplasm\n"
     ]
    }
   ],
   "source": [
    "rels = oi.get_outgoing_relationships_by_curie('GO:0005773')\n",
    "for rel, parents in rels.items():\n",
    "    print(f'  {rel} ! {oi.get_label_by_curie(rel)}')\n",
    "    for parent in parents:\n",
    "        print(f'    {parent} ! {oi.get_label_by_curie(parent)}')"
   ]
  },
  {
   "cell_type": "markdown",
   "id": "74879ed0",
   "metadata": {},
   "source": [
    "### Remote (downloading from OBO)\n",
    "\n",
    "Next we use pronto's load from obo library feature"
   ]
  },
  {
   "cell_type": "code",
   "execution_count": 4,
   "id": "33fd0318",
   "metadata": {},
   "outputs": [],
   "source": [
    "oi = ProntoImplementation.create(OntologyResource(local=False, slug='go.obo'))"
   ]
  },
  {
   "cell_type": "code",
   "execution_count": 5,
   "id": "6bb78662",
   "metadata": {},
   "outputs": [
    {
     "name": "stdout",
     "output_type": "stream",
     "text": [
      "  rdfs:subClassOf ! subClassOf\n",
      "    GO:0005773 ! vacuole\n",
      "    GO:0043231 ! intracellular membrane-bounded organelle\n",
      "  part_of ! part of\n",
      "    GO:0005737 ! cytoplasm\n"
     ]
    }
   ],
   "source": [
    "rels = oi.get_outgoing_relationships_by_curie('GO:0005773')\n",
    "for rel, parents in rels.items():\n",
    "    print(f'  {rel} ! {oi.get_label_by_curie(rel)}')\n",
    "    for parent in parents:\n",
    "        print(f'    {parent} ! {oi.get_label_by_curie(parent)}')"
   ]
  },
  {
   "cell_type": "markdown",
   "id": "77e03f3f",
   "metadata": {},
   "source": [
    "## SQL Database access\n",
    "\n",
    "We can load from a SQL Database following Semantic SQL patterns"
   ]
  },
  {
   "cell_type": "code",
   "execution_count": 6,
   "id": "fcb703b1",
   "metadata": {},
   "outputs": [],
   "source": [
    "from obolib.implementations.sqldb.sql_implementation import SqlImplementation\n"
   ]
  },
  {
   "cell_type": "code",
   "execution_count": 7,
   "id": "90615183",
   "metadata": {},
   "outputs": [
    {
     "name": "stdout",
     "output_type": "stream",
     "text": [
      "CREATING: sqlite:///input/go-nucleus.db\n"
     ]
    }
   ],
   "source": [
    "oi = SqlImplementation.create(OntologyResource(slug=f'sqlite:///input/go-nucleus.db'))"
   ]
  },
  {
   "cell_type": "code",
   "execution_count": 8,
   "id": "b21e10d2",
   "metadata": {},
   "outputs": [],
   "source": [
    "## TODO\n",
    "#rels = oi.get_outgoing_relationships_by_curie('GO:0005773')\n",
    "#for k, v in rels.items():\n",
    "#    print(f'{k} = {v}')"
   ]
  },
  {
   "cell_type": "code",
   "execution_count": 9,
   "id": "38eeb8bb",
   "metadata": {},
   "outputs": [
    {
     "name": "stdout",
     "output_type": "stream",
     "text": [
      "%intracellular%\n",
      "PREDS = ['rdfs:label', 'oio:hasRelatedSynonym', 'oio:hasNarrowSynonym', 'oio:hasExactSynonym', 'oio:hasBroadSynonym']\n",
      " MATCH: GO:0005622 ! intracellular anatomical structure \n",
      " MATCH: GO:0043231 ! intracellular membrane-bounded organelle \n",
      " MATCH: GO:0031090 ! organelle membrane \n",
      " MATCH: GO:0043229 ! intracellular organelle \n"
     ]
    }
   ],
   "source": [
    "for curie in oi.basic_search('intracellular'):\n",
    "    print(f' MATCH: {curie} ! {oi.get_label_by_curie(curie)} ')"
   ]
  },
  {
   "cell_type": "code",
   "execution_count": 10,
   "id": "7db300b9",
   "metadata": {},
   "outputs": [
    {
     "data": {
      "text/plain": [
       "[obolib.interfaces.basic_ontology_interface.BasicOntologyInterface]"
      ]
     },
     "execution_count": 10,
     "metadata": {},
     "output_type": "execute_result"
    }
   ],
   "source": [
    "oi.interfaces_implemented()"
   ]
  },
  {
   "cell_type": "markdown",
   "id": "a43eab8d",
   "metadata": {},
   "source": [
    "## Loading from OWL ontologies using owlfun\n",
    "\n",
    "TODO"
   ]
  },
  {
   "cell_type": "markdown",
   "id": "b8fa28d5",
   "metadata": {},
   "source": [
    "## Wrapping remote ontology portals\n",
    "\n",
    "### OLS\n",
    "\n",
    "TODO\n",
    "\n",
    "### BioPortal\n",
    "\n",
    "TODO"
   ]
  },
  {
   "cell_type": "markdown",
   "id": "166a6345",
   "metadata": {},
   "source": [
    "## Wrapping SPARQL Endpoints\n",
    "\n",
    "### Ubergraph"
   ]
  },
  {
   "cell_type": "code",
   "execution_count": 11,
   "id": "ffa5badd",
   "metadata": {},
   "outputs": [
    {
     "name": "stdout",
     "output_type": "stream",
     "text": [
      "URL = https://ubergraph.apps.renci.org/sparql\n"
     ]
    }
   ],
   "source": [
    "from obolib.implementations.ubergraph.ubergraph_implementation import UbergraphImplementation\n",
    "oi = UbergraphImplementation.create()"
   ]
  },
  {
   "cell_type": "code",
   "execution_count": 12,
   "id": "675cb043",
   "metadata": {},
   "outputs": [
    {
     "name": "stderr",
     "output_type": "stream",
     "text": [
      "ERROR:root:Multiple labels for BFO:0000050 = ['part of', 'part_of', 'part of']\n"
     ]
    },
    {
     "name": "stdout",
     "output_type": "stream",
     "text": [
      "  BFO:0000050 ! part of\n",
      "    GO:0005737 ! cytoplasm\n",
      "  caro#part:of ! None\n",
      "    GO:0005737 ! cytoplasm\n",
      "  rdfs:subClassOf ! None\n",
      "    GO:0043231 ! intracellular membrane-bounded organelle\n"
     ]
    }
   ],
   "source": [
    "rels = oi.get_outgoing_relationships_by_curie('GO:0005773')\n",
    "for rel, parents in rels.items():\n",
    "    print(f'  {rel} ! {oi.get_label_by_curie(rel)}')\n",
    "    for parent in parents:\n",
    "        print(f'    {parent} ! {oi.get_label_by_curie(parent)}')"
   ]
  },
  {
   "cell_type": "markdown",
   "id": "29d7d5bb",
   "metadata": {},
   "source": [
    "### notes\n",
    "\n",
    "Notice some of the differences with some of the other mechanisms:\n",
    "\n",
    " - ubergraph includes multiple ontologies, one of which 'injects' an legacy caro#part_of relationship\n",
    " - similarly there are different injected labels for the part-of relation\n",
    " - note also that the ubergraph implementation uses the actual predicate CURIE, currently pronto uses the shortname\n",
    " \n",
    "This also involves multiple iterative calls to the API which is inefficient.\n",
    "\n",
    "In future there will be an interface for 'bigger' operations that can be implemented more efficiently"
   ]
  },
  {
   "cell_type": "markdown",
   "id": "b1925ff5",
   "metadata": {},
   "source": [
    "\n",
    "\n",
    "### Ontobee\n",
    "\n",
    "TODO"
   ]
  },
  {
   "cell_type": "code",
   "execution_count": 13,
   "id": "2d793147",
   "metadata": {},
   "outputs": [
    {
     "name": "stdout",
     "output_type": "stream",
     "text": [
      "URL = http://sparql.hegroup.org/sparql\n"
     ]
    }
   ],
   "source": [
    "from obolib.implementations.ontobee.ontobee_implementation import OntobeeImplementation\n",
    "oi = OntobeeImplementation.create()"
   ]
  },
  {
   "cell_type": "code",
   "execution_count": 14,
   "id": "e65b74e4",
   "metadata": {},
   "outputs": [],
   "source": [
    "parents = oi.get_parents_by_curie('GO:0005773')"
   ]
  },
  {
   "cell_type": "code",
   "execution_count": 15,
   "id": "309668db",
   "metadata": {},
   "outputs": [],
   "source": [
    "#for parent in parents:\n",
    "#    print(f'    {parent} ! {oi.get_label_by_curie(parent)}')"
   ]
  }
 ],
 "metadata": {
  "kernelspec": {
   "display_name": "Python 3 (ipykernel)",
   "language": "python",
   "name": "python3"
  },
  "language_info": {
   "codemirror_mode": {
    "name": "ipython",
    "version": 3
   },
   "file_extension": ".py",
   "mimetype": "text/x-python",
   "name": "python",
   "nbconvert_exporter": "python",
   "pygments_lexer": "ipython3",
   "version": "3.9.5"
  }
 },
 "nbformat": 4,
 "nbformat_minor": 5
}
