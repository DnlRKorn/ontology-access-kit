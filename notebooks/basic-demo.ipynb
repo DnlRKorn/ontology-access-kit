{
 "cells": [
  {
   "cell_type": "markdown",
   "id": "6c9a188d",
   "metadata": {},
   "source": [
    "# Basic Ontology Interface Demo\n",
    "\n",
    "this demonstrates the use of the BasicOntologyInterface which provides simplified access to local or remote\n",
    "ontologies.\n",
    "\n",
    "We demonstrate the use of different backends, but in practice you will likely only use one depending on your use case.\n",
    "\n",
    "- pronto or sqlite for working with ontologies which you have a local copy of, and can trade startup time for generally faster operations\n",
    "- ubergraph or ontobee or ols or bioportal for an ontology that has been loaded into a remote server"
   ]
  },
  {
   "cell_type": "markdown",
   "id": "667f0480",
   "metadata": {},
   "source": [
    "## Loading from obo files using Pronto"
   ]
  },
  {
   "cell_type": "code",
   "execution_count": 1,
   "id": "d0255749",
   "metadata": {},
   "outputs": [],
   "source": [
    "from oaklib.implementations.pronto.pronto_implementation import ProntoImplementation\n",
    "from oaklib.resource import OntologyResource"
   ]
  },
  {
   "cell_type": "markdown",
   "id": "6ef2643a",
   "metadata": {},
   "source": [
    "### Local files\n",
    "\n",
    "First we demonstrate loading from a file on the filesystem"
   ]
  },
  {
   "cell_type": "code",
   "execution_count": 2,
   "id": "3b911252",
   "metadata": {},
   "outputs": [],
   "source": [
    "resource = OntologyResource(slug='go-nucleus.obo', directory='input', local=True)\n",
    "oi = ProntoImplementation(resource)"
   ]
  },
  {
   "cell_type": "code",
   "execution_count": 3,
   "id": "af7bc82b",
   "metadata": {},
   "outputs": [
    {
     "name": "stdout",
     "output_type": "stream",
     "text": [
      "  rdfs:subClassOf ! subClassOf\n",
      "    GO:0043231 ! intracellular membrane-bounded organelle\n",
      "  BFO:0000050 ! part_of\n",
      "    GO:0005737 ! cytoplasm\n"
     ]
    }
   ],
   "source": [
    "rels = oi.get_outgoing_relationships_by_curie('GO:0005773')\n",
    "for rel, parents in rels.items():\n",
    "    print(f'  {rel} ! {oi.get_label_by_curie(rel)}')\n",
    "    for parent in parents:\n",
    "        print(f'    {parent} ! {oi.get_label_by_curie(parent)}')"
   ]
  },
  {
   "cell_type": "markdown",
   "id": "74879ed0",
   "metadata": {},
   "source": [
    "### Remote (downloading from OBO)\n",
    "\n",
    "Next we use pronto's load from obo library feature"
   ]
  },
  {
   "cell_type": "code",
   "execution_count": 4,
   "id": "33fd0318",
   "metadata": {},
   "outputs": [],
   "source": [
    "oi = ProntoImplementation(OntologyResource(local=False, slug='go.obo'))"
   ]
  },
  {
   "cell_type": "markdown",
   "id": "82b8e42a",
   "metadata": {},
   "source": [
    "note this slight lag in executing the command above - while this method relieves\n",
    "the need to manage and synchronize files locally there is an initial network startup\n",
    "penalty"
   ]
  },
  {
   "cell_type": "code",
   "execution_count": 5,
   "id": "6bb78662",
   "metadata": {},
   "outputs": [
    {
     "name": "stdout",
     "output_type": "stream",
     "text": [
      "  rdfs:subClassOf ! subClassOf\n",
      "    GO:0043231 ! intracellular membrane-bounded organelle\n",
      "  BFO:0000050 ! part of\n",
      "    GO:0005737 ! cytoplasm\n"
     ]
    }
   ],
   "source": [
    "rels = oi.get_outgoing_relationships_by_curie('GO:0005773')\n",
    "for rel, parents in rels.items():\n",
    "    print(f'  {rel} ! {oi.get_label_by_curie(rel)}')\n",
    "    for parent in parents:\n",
    "        print(f'    {parent} ! {oi.get_label_by_curie(parent)}')"
   ]
  },
  {
   "cell_type": "markdown",
   "id": "77e03f3f",
   "metadata": {},
   "source": [
    "## SQL Database access\n",
    "\n",
    "We can load from a SQL Database following Semantic SQL patterns (see [docs](https://github.com/cmungall/semantic-sql/#download-sqlite-dbs) for how to download ready-made sqlite dbs for all of OBO)"
   ]
  },
  {
   "cell_type": "code",
   "execution_count": 6,
   "id": "fcb703b1",
   "metadata": {},
   "outputs": [],
   "source": [
    "from oaklib.implementations.sqldb.sql_implementation import SqlImplementation\n"
   ]
  },
  {
   "cell_type": "code",
   "execution_count": 7,
   "id": "90615183",
   "metadata": {},
   "outputs": [],
   "source": [
    "oi = SqlImplementation(OntologyResource(slug=f'sqlite:///input/go-nucleus.db'))"
   ]
  },
  {
   "cell_type": "code",
   "execution_count": 8,
   "id": "b21e10d2",
   "metadata": {},
   "outputs": [
    {
     "name": "stdout",
     "output_type": "stream",
     "text": [
      "  BFO:0000050 ! part of\n",
      "    GO:0005737 ! cytoplasm\n",
      "  rdfs:subClassOf ! None\n",
      "    GO:0043231 ! intracellular membrane-bounded organelle\n"
     ]
    }
   ],
   "source": [
    "rels = oi.get_outgoing_relationships_by_curie('GO:0005773')\n",
    "for rel, parents in rels.items():\n",
    "    print(f'  {rel} ! {oi.get_label_by_curie(rel)}')\n",
    "    for parent in parents:\n",
    "        print(f'    {parent} ! {oi.get_label_by_curie(parent)}')"
   ]
  },
  {
   "cell_type": "code",
   "execution_count": 9,
   "id": "38eeb8bb",
   "metadata": {},
   "outputs": [
    {
     "name": "stdout",
     "output_type": "stream",
     "text": [
      " MATCH: GO:0005622 ! intracellular anatomical structure \n",
      " MATCH: GO:0043231 ! intracellular membrane-bounded organelle \n",
      " MATCH: GO:0031090 ! organelle membrane \n",
      " MATCH: GO:0043229 ! intracellular organelle \n"
     ]
    }
   ],
   "source": [
    "for curie in oi.basic_search('intracellular'):\n",
    "    print(f' MATCH: {curie} ! {oi.get_label_by_curie(curie)} ')"
   ]
  },
  {
   "cell_type": "markdown",
   "id": "803c5777",
   "metadata": {},
   "source": [
    "### Determining which interfaces an implementation implements"
   ]
  },
  {
   "cell_type": "code",
   "execution_count": 10,
   "id": "7db300b9",
   "metadata": {},
   "outputs": [
    {
     "data": {
      "text/plain": [
       "[oaklib.interfaces.relation_graph_interface.RelationGraphInterface,\n",
       " oaklib.interfaces.obograph_interface.OboGraphInterface,\n",
       " oaklib.interfaces.validator_interface.ValidatorInterface]"
      ]
     },
     "execution_count": 10,
     "metadata": {},
     "output_type": "execute_result"
    }
   ],
   "source": [
    "oi.interfaces_implemented()"
   ]
  },
  {
   "cell_type": "markdown",
   "id": "a43eab8d",
   "metadata": {},
   "source": [
    "## Loading from OWL ontologies using owlfun\n",
    "\n",
    "TODO"
   ]
  },
  {
   "cell_type": "markdown",
   "id": "b8fa28d5",
   "metadata": {},
   "source": [
    "## Wrapping remote ontology portals\n",
    "\n",
    "### OLS\n",
    "\n",
    "TODO\n",
    "\n",
    "### BioPortal\n",
    "\n",
    "TODO"
   ]
  },
  {
   "cell_type": "markdown",
   "id": "166a6345",
   "metadata": {},
   "source": [
    "## Wrapping SPARQL Endpoints\n",
    "\n",
    "### Ubergraph"
   ]
  },
  {
   "cell_type": "code",
   "execution_count": 11,
   "id": "ffa5badd",
   "metadata": {},
   "outputs": [],
   "source": [
    "from oaklib.implementations.ubergraph.ubergraph_implementation import UbergraphImplementation\n",
    "oi = UbergraphImplementation()"
   ]
  },
  {
   "cell_type": "code",
   "execution_count": 12,
   "id": "675cb043",
   "metadata": {},
   "outputs": [
    {
     "name": "stderr",
     "output_type": "stream",
     "text": [
      "ERROR:root:Multiple labels for BFO:0000050 = ['part_of', 'part of']\n"
     ]
    },
    {
     "name": "stdout",
     "output_type": "stream",
     "text": [
      "  BFO:0000050 ! part_of\n",
      "    GO:0005737 ! cytoplasm\n",
      "  caro#part:of ! None\n",
      "    GO:0005737 ! cytoplasm\n",
      "  rdfs:subClassOf ! None\n",
      "    GO:0043231 ! intracellular membrane-bounded organelle\n"
     ]
    }
   ],
   "source": [
    "rels = oi.get_outgoing_relationships_by_curie('GO:0005773')\n",
    "for rel, parents in rels.items():\n",
    "    print(f'  {rel} ! {oi.get_label_by_curie(rel)}')\n",
    "    for parent in parents:\n",
    "        print(f'    {parent} ! {oi.get_label_by_curie(parent)}')"
   ]
  },
  {
   "cell_type": "markdown",
   "id": "29d7d5bb",
   "metadata": {},
   "source": [
    "### notes\n",
    "\n",
    "Notice some of the differences with some of the other mechanisms:\n",
    "\n",
    " - ubergraph includes multiple ontologies, one of which 'injects' an legacy caro#part_of relationship\n",
    " - similarly there are different injected labels for the part-of relation\n",
    " - note also that the ubergraph implementation uses the actual predicate CURIE, currently pronto uses the shortname\n",
    " \n",
    "This also involves multiple iterative calls to the API which is inefficient.\n",
    "\n",
    "In future there will be an interface for 'bigger' operations that can be implemented more efficiently"
   ]
  },
  {
   "cell_type": "markdown",
   "id": "b1925ff5",
   "metadata": {},
   "source": [
    "### Ontobee\n",
    "\n",
    "Currently the ontobee implementation doesn't allow the selection of a specific ontology\n",
    "within the triplestore -- instead the whole store is treated as if it were one giant\n",
    "ontology with everything merged together.\n",
    "\n",
    "This can be confusing when one ontology contains a stale part of another - e.g. if an ontology\n",
    "used to have a parent term but it has since been obsoleted."
   ]
  },
  {
   "cell_type": "code",
   "execution_count": 13,
   "id": "2d793147",
   "metadata": {},
   "outputs": [],
   "source": [
    "from oaklib.implementations.ontobee.ontobee_implementation import OntobeeImplementation\n",
    "oi = OntobeeImplementation()"
   ]
  },
  {
   "cell_type": "code",
   "execution_count": 14,
   "id": "19cf2710",
   "metadata": {},
   "outputs": [
    {
     "name": "stderr",
     "output_type": "stream",
     "text": [
      "ERROR:root:Multiple labels for GO:0044444 = ['obsolete cytoplasmic part', '细胞质部分', 'cytoplasmic part']\n"
     ]
    },
    {
     "name": "stdout",
     "output_type": "stream",
     "text": [
      "  rdfs:subClassOf ! None\n",
      "    GO:0044444 ! obsolete cytoplasmic part\n"
     ]
    },
    {
     "name": "stderr",
     "output_type": "stream",
     "text": [
      "ERROR:root:Multiple labels for GO:0043227 = ['膜结合细胞器', 'membrane-bounded organelle']\n",
      "ERROR:root:Multiple labels for GO:0043231 = ['intracellular membrane-bounded organelle', '细胞内膜结合的细胞器']\n"
     ]
    },
    {
     "name": "stdout",
     "output_type": "stream",
     "text": [
      "    GO:0043227 ! 膜结合细胞器\n",
      "    GO:0043231 ! intracellular membrane-bounded organelle\n"
     ]
    },
    {
     "name": "stderr",
     "output_type": "stream",
     "text": [
      "ERROR:root:Multiple labels for BFO:0000050 = ['part_of', 'is part of', 'part of', 'part_of (type level)']\n",
      "ERROR:root:Multiple labels for GO:0005737 = ['cytoplasm', '细胞质']\n"
     ]
    },
    {
     "name": "stdout",
     "output_type": "stream",
     "text": [
      "  BFO:0000050 ! part_of\n",
      "    GO:0005737 ! cytoplasm\n"
     ]
    }
   ],
   "source": [
    "rels = oi.get_outgoing_relationships_by_curie('GO:0005773')\n",
    "for rel, parents in rels.items():\n",
    "    print(f'  {rel} ! {oi.get_label_by_curie(rel)}')\n",
    "    for parent in parents:\n",
    "        print(f'    {parent} ! {oi.get_label_by_curie(parent)}')"
   ]
  },
  {
   "cell_type": "markdown",
   "id": "3818f6c6",
   "metadata": {},
   "source": [
    "# Graph Operations"
   ]
  },
  {
   "cell_type": "code",
   "execution_count": 16,
   "id": "46df98cd",
   "metadata": {},
   "outputs": [],
   "source": [
    "oi = ProntoImplementation(OntologyResource(local=False, slug='go.obo'))"
   ]
  },
  {
   "cell_type": "code",
   "execution_count": 17,
   "id": "a6c60020",
   "metadata": {},
   "outputs": [
    {
     "name": "stdout",
     "output_type": "stream",
     "text": [
      "GO:0005622 ! intracellular anatomical structure\n",
      "GO:0110165 ! cellular anatomical entity\n",
      "GO:0043229 ! intracellular organelle\n",
      "GO:0043226 ! organelle\n",
      "GO:0005737 ! cytoplasm\n",
      "GO:0005773 ! vacuole\n",
      "GO:0005575 ! cellular_component\n",
      "GO:0016020 ! membrane\n",
      "GO:0043227 ! membrane-bounded organelle\n",
      "GO:0043231 ! intracellular membrane-bounded organelle\n"
     ]
    }
   ],
   "source": [
    "ancs = oi.ancestors('GO:0005773')\n",
    "for anc in list(ancs):\n",
    "    print(f'{anc} ! {oi.get_label_by_curie(anc)}')"
   ]
  },
  {
   "cell_type": "code",
   "execution_count": 18,
   "id": "6f5fc417",
   "metadata": {},
   "outputs": [
    {
     "name": "stdout",
     "output_type": "stream",
     "text": [
      "GO:0005622 ! intracellular anatomical structure\n",
      "GO:0110165 ! cellular anatomical entity\n",
      "GO:0043229 ! intracellular organelle\n",
      "GO:0043226 ! organelle\n",
      "GO:0005737 ! cytoplasm\n",
      "GO:0005773 ! vacuole\n",
      "GO:0005575 ! cellular_component\n",
      "GO:0043227 ! membrane-bounded organelle\n",
      "GO:0043231 ! intracellular membrane-bounded organelle\n"
     ]
    }
   ],
   "source": [
    "from oaklib.vocabulary.vocabulary import IS_A, PART_OF\n",
    "\n",
    "ancs = oi.ancestors('GO:0005773', predicates=[IS_A, PART_OF])\n",
    "for anc in list(ancs):\n",
    "    print(f'{anc} ! {oi.get_label_by_curie(anc)}')"
   ]
  },
  {
   "cell_type": "code",
   "execution_count": 19,
   "id": "41652e82",
   "metadata": {},
   "outputs": [
    {
     "name": "stdout",
     "output_type": "stream",
     "text": [
      "GO:0005773 \"vacuole\" -rdfs:subClassOf \"subClassOf\"-> GO:0043231 \"intracellular membrane-bounded organelle\"\n",
      "GO:0005773 \"vacuole\" -BFO:0000050 \"part of\"-> GO:0005737 \"cytoplasm\"\n",
      "GO:0005737 \"cytoplasm\" -rdfs:subClassOf \"subClassOf\"-> GO:0110165 \"cellular anatomical entity\"\n",
      "GO:0005737 \"cytoplasm\" -BFO:0000050 \"part of\"-> GO:0005622 \"intracellular anatomical structure\"\n",
      "GO:0005622 \"intracellular anatomical structure\" -rdfs:subClassOf \"subClassOf\"-> GO:0110165 \"cellular anatomical entity\"\n",
      "GO:0110165 \"cellular anatomical entity\" -rdfs:subClassOf \"subClassOf\"-> GO:0005575 \"cellular_component\"\n",
      "GO:0043231 \"intracellular membrane-bounded organelle\" -rdfs:subClassOf \"subClassOf\"-> GO:0043227 \"membrane-bounded organelle\"\n",
      "GO:0043231 \"intracellular membrane-bounded organelle\" -rdfs:subClassOf \"subClassOf\"-> GO:0043229 \"intracellular organelle\"\n",
      "GO:0043229 \"intracellular organelle\" -rdfs:subClassOf \"subClassOf\"-> GO:0043226 \"organelle\"\n",
      "GO:0043229 \"intracellular organelle\" -BFO:0000050 \"part of\"-> GO:0005622 \"intracellular anatomical structure\"\n",
      "GO:0043226 \"organelle\" -rdfs:subClassOf \"subClassOf\"-> GO:0110165 \"cellular anatomical entity\"\n",
      "GO:0043227 \"membrane-bounded organelle\" -rdfs:subClassOf \"subClassOf\"-> GO:0043226 \"organelle\"\n"
     ]
    }
   ],
   "source": [
    "def render(curie):\n",
    "    return f'{curie} \"{oi.get_label_by_curie(curie)}\"'\n",
    "for s,p,o in oi.walk_up_relationship_graph('GO:0005773', predicates=[IS_A, PART_OF]):\n",
    "    print(f'{render(s)} -{render(p)}-> {render(o)}')"
   ]
  },
  {
   "cell_type": "markdown",
   "id": "3041bfb2",
   "metadata": {},
   "source": [
    "## Rendering using GraphViz\n"
   ]
  },
  {
   "cell_type": "code",
   "execution_count": 20,
   "id": "7017dc0e",
   "metadata": {},
   "outputs": [],
   "source": [
    "from oaklib.utilities.obograph_utils import graph_to_image, default_stylemap_path\n",
    "stylemap = default_stylemap_path()"
   ]
  },
  {
   "cell_type": "code",
   "execution_count": 21,
   "id": "eda4ad03",
   "metadata": {},
   "outputs": [],
   "source": [
    "graph = oi.ancestor_graph('GO:0005773', predicates=[IS_A, PART_OF])"
   ]
  },
  {
   "cell_type": "code",
   "execution_count": 22,
   "id": "eeaef328",
   "metadata": {},
   "outputs": [
    {
     "name": "stderr",
     "output_type": "stream",
     "text": [
      "(node:17004) [DEP0128] DeprecationWarning: Invalid 'main' field in '/Users/cjm/repos/obographviz/node_modules/node-getopt/package.json' of './lib'. Please either fix that or report it to the module author\n",
      "(Use `node --trace-deprecation ...` to show where the warning was created)\n"
     ]
    },
    {
     "data": {
      "text/plain": [
       "'output/vacuole.png'"
      ]
     },
     "execution_count": 22,
     "metadata": {},
     "output_type": "execute_result"
    }
   ],
   "source": [
    "graph_to_image(graph, ['GO:0005773'], stylemap=stylemap, imgfile='output/vacuole.png')"
   ]
  },
  {
   "cell_type": "markdown",
   "id": "71bbcc3c",
   "metadata": {},
   "source": [
    "### Output\n",
    "\n",
    "![img](output/vacuole.png)"
   ]
  },
  {
   "cell_type": "code",
   "execution_count": null,
   "id": "81adbff6",
   "metadata": {},
   "outputs": [],
   "source": []
  }
 ],
 "metadata": {
  "kernelspec": {
   "display_name": "Python 3 (ipykernel)",
   "language": "python",
   "name": "python3"
  },
  "language_info": {
   "codemirror_mode": {
    "name": "ipython",
    "version": 3
   },
   "file_extension": ".py",
   "mimetype": "text/x-python",
   "name": "python",
   "nbconvert_exporter": "python",
   "pygments_lexer": "ipython3",
   "version": "3.9.5"
  }
 },
 "nbformat": 4,
 "nbformat_minor": 5
}
